{
  "nbformat": 4,
  "nbformat_minor": 0,
  "metadata": {
    "colab": {
      "provenance": [],
      "collapsed_sections": [],
      "toc_visible": true
    },
    "kernelspec": {
      "name": "python3",
      "display_name": "Python 3"
    },
    "language_info": {
      "name": "python"
    }
  },
  "cells": [
    {
      "cell_type": "markdown",
      "source": [
        "# Simple Linear Regression Example\n",
        " "
      ],
      "metadata": {
        "id": "MM5CUO5Q1nnO"
      }
    },
    {
      "cell_type": "code",
      "execution_count": null,
      "metadata": {
        "id": "kmHdWoDVmJBQ"
      },
      "outputs": [],
      "source": [
        "import numpy as np\n",
        "from sklearn.linear_model import LinearRegression as Lr\n"
      ]
    },
    {
      "cell_type": "code",
      "source": [
        "x = np.array([5,15,25,35,45,55]).reshape((-1,1))\n",
        "y = np.array([5,20,14,32,22,38])\n"
      ],
      "metadata": {
        "id": "W2Lx-HmAoher"
      },
      "execution_count": null,
      "outputs": []
    },
    {
      "cell_type": "code",
      "source": [
        "print(x,x.shape)\n",
        "print(y,y.shape)"
      ],
      "metadata": {
        "colab": {
          "base_uri": "https://localhost:8080/"
        },
        "id": "DB7Rad5eopcQ",
        "outputId": "29055761-23c0-4e16-d3db-ff3756719858"
      },
      "execution_count": null,
      "outputs": [
        {
          "output_type": "stream",
          "name": "stdout",
          "text": [
            "[[ 5]\n",
            " [15]\n",
            " [25]\n",
            " [35]\n",
            " [45]\n",
            " [55]] (6, 1)\n",
            "[ 5 20 14 32 22 38] (6,)\n"
          ]
        }
      ]
    },
    {
      "cell_type": "code",
      "source": [
        "model = Lr()"
      ],
      "metadata": {
        "id": "alQTkee5pF9A"
      },
      "execution_count": null,
      "outputs": []
    },
    {
      "cell_type": "code",
      "source": [
        "model = model.fit(x,y)"
      ],
      "metadata": {
        "id": "KjcCh_cLpYs3"
      },
      "execution_count": null,
      "outputs": []
    },
    {
      "cell_type": "code",
      "source": [
        "r_sq = model.score(x,y)\n",
        "print(r_sq)"
      ],
      "metadata": {
        "colab": {
          "base_uri": "https://localhost:8080/"
        },
        "id": "_e-7bSK3zlvJ",
        "outputId": "7f32eba2-0e63-4d9e-803a-9b84a571d698"
      },
      "execution_count": null,
      "outputs": [
        {
          "output_type": "stream",
          "name": "stdout",
          "text": [
            "0.7158756137479542\n"
          ]
        }
      ]
    },
    {
      "cell_type": "code",
      "source": [
        "b1 = model.coef_\n",
        "b0 = model.intercept_\n",
        "print(f'y = {b1}[x] + {b0}')"
      ],
      "metadata": {
        "colab": {
          "base_uri": "https://localhost:8080/"
        },
        "id": "2_WyovplznY_",
        "outputId": "1ea4a40c-675a-42c5-ed24-90d9bfd589f6"
      },
      "execution_count": null,
      "outputs": [
        {
          "output_type": "stream",
          "name": "stdout",
          "text": [
            "y = [0.54][x] + 5.633333333333329\n"
          ]
        }
      ]
    },
    {
      "cell_type": "code",
      "source": [
        "x_predict = np.array([1,2,3,4,5,6]).reshape(-1 , 1)"
      ],
      "metadata": {
        "id": "ntMaCjwK0TIj"
      },
      "execution_count": null,
      "outputs": []
    },
    {
      "cell_type": "code",
      "source": [
        "y_predict = model.predict(x_predict)\n",
        "print(y_predict)"
      ],
      "metadata": {
        "colab": {
          "base_uri": "https://localhost:8080/"
        },
        "id": "SF5RGkpH03GK",
        "outputId": "f5440fb0-fad4-4527-b7f0-8148a41bed02"
      },
      "execution_count": null,
      "outputs": [
        {
          "output_type": "stream",
          "name": "stdout",
          "text": [
            "[6.17333333 6.71333333 7.25333333 7.79333333 8.33333333 8.87333333]\n"
          ]
        }
      ]
    },
    {
      "cell_type": "markdown",
      "source": [
        "# Create Multiple Linear Regressoin"
      ],
      "metadata": {
        "id": "MR0IKh8S1-Mi"
      }
    },
    {
      "cell_type": "code",
      "source": [
        "multiple_linear = Lr()"
      ],
      "metadata": {
        "id": "BweJ1Nqh0_db"
      },
      "execution_count": null,
      "outputs": []
    },
    {
      "cell_type": "code",
      "source": [
        "x2 = [\n",
        "    [0, 1],\n",
        "    [5, 1],\n",
        "    [15, 2],\n",
        "    [25, 5],\n",
        "    [35, 11],\n",
        "    [45, 15],\n",
        "    [55, 34],\n",
        "    [60, 35]\n",
        " ]\n",
        "\n",
        "y2 =  [4, 5, 20, 14, 32, 22, 38, 43]\n",
        "x2 , y2 = np.array(x2) , np.array(y2)"
      ],
      "metadata": {
        "id": "Kh9t_J7i17xa"
      },
      "execution_count": null,
      "outputs": []
    },
    {
      "cell_type": "code",
      "source": [
        "multiple_linear = multiple_linear.fit(x2,y2) "
      ],
      "metadata": {
        "id": "Ycs_oRV-2nre"
      },
      "execution_count": null,
      "outputs": []
    },
    {
      "cell_type": "code",
      "source": [
        "b1 = multiple_linear.coef_\n",
        "b0 = multiple_linear.intercept_\n",
        "print(f'y = {b1}[x] + {b0}')"
      ],
      "metadata": {
        "colab": {
          "base_uri": "https://localhost:8080/"
        },
        "id": "4bubTmcH2wtF",
        "outputId": "702a161a-c989-41b4-bd50-fe9f2885c493"
      },
      "execution_count": null,
      "outputs": [
        {
          "output_type": "stream",
          "name": "stdout",
          "text": [
            "y = [0.44706965 0.25502548][x] + 5.52257927519819\n"
          ]
        }
      ]
    },
    {
      "cell_type": "markdown",
      "source": [
        "# Polynomial Regression With scikit-learn\n"
      ],
      "metadata": {
        "id": "a4dfWg6gLRDI"
      }
    },
    {
      "cell_type": "code",
      "source": [
        "from sklearn.preprocessing import PolynomialFeatures as Pf"
      ],
      "metadata": {
        "id": "XzVTQSGaLUL1"
      },
      "execution_count": null,
      "outputs": []
    },
    {
      "cell_type": "code",
      "source": [
        "x = np.array([5, 15, 25, 35, 45, 55]).reshape((-1, 1))\n",
        "y = np.array([15, 11, 2, 8, 25, 32])"
      ],
      "metadata": {
        "id": "u2CM5wn2LcI_"
      },
      "execution_count": null,
      "outputs": []
    },
    {
      "cell_type": "code",
      "source": [
        "transformer =  Pf(degree=2,include_bias=False)"
      ],
      "metadata": {
        "id": "te9xvqsPLquQ"
      },
      "execution_count": null,
      "outputs": []
    },
    {
      "cell_type": "code",
      "source": [
        "x_ = transformer.fit(x)"
      ],
      "metadata": {
        "id": "auuAwAKLL3Oi"
      },
      "execution_count": null,
      "outputs": []
    },
    {
      "cell_type": "code",
      "source": [
        "x_ = transformer.transform(x)\n",
        "# also use transformer.fit_transform()"
      ],
      "metadata": {
        "id": "tCbhQ4dEMtjJ"
      },
      "execution_count": null,
      "outputs": []
    },
    {
      "cell_type": "code",
      "source": [
        "print('original x is :',x)\n",
        "print('x_ is :',x_)"
      ],
      "metadata": {
        "colab": {
          "base_uri": "https://localhost:8080/"
        },
        "id": "ehgbSeocMzcZ",
        "outputId": "449c5ad8-e74b-4273-e627-73180b91e28c"
      },
      "execution_count": null,
      "outputs": [
        {
          "output_type": "stream",
          "name": "stdout",
          "text": [
            "original x is : [[ 5]\n",
            " [15]\n",
            " [25]\n",
            " [35]\n",
            " [45]\n",
            " [55]]\n",
            "x_ is : [[   5.   25.]\n",
            " [  15.  225.]\n",
            " [  25.  625.]\n",
            " [  35. 1225.]\n",
            " [  45. 2025.]\n",
            " [  55. 3025.]]\n"
          ]
        }
      ]
    },
    {
      "cell_type": "code",
      "source": [
        "model = Lr().fit(x_,y)"
      ],
      "metadata": {
        "id": "4XcCzbXMM-7C"
      },
      "execution_count": null,
      "outputs": []
    },
    {
      "cell_type": "code",
      "source": [
        "print(f'R^2 = {model.score(x_,y)}')\n",
        "print(f'y = {model.coef_}[x]+ {model.intercept_}')"
      ],
      "metadata": {
        "colab": {
          "base_uri": "https://localhost:8080/"
        },
        "id": "u45IgTuGNdYs",
        "outputId": "f9b1a9d3-9998-43c8-9324-3b2e821dc0e8"
      },
      "execution_count": null,
      "outputs": [
        {
          "output_type": "stream",
          "name": "stdout",
          "text": [
            "R^2 = 0.8908516262498563\n",
            "y = [-1.32357143  0.02839286][x]+ 21.37232142857144\n"
          ]
        }
      ]
    },
    {
      "cell_type": "markdown",
      "source": [
        "# Linear Regression With statsmodels\n",
        "You can implement linear regression in Python by using the package statsmodels as well. Typically, this is desirable when you need more detailed results.\n",
        "\n",
        "The procedure is similar to that of scikit-learn."
      ],
      "metadata": {
        "id": "Qdojoz-UQgfS"
      }
    },
    {
      "cell_type": "code",
      "source": [
        " import statsmodels.api as sm"
      ],
      "metadata": {
        "id": "qBFRdx35QhL8"
      },
      "execution_count": null,
      "outputs": []
    },
    {
      "cell_type": "code",
      "source": [
        "print(x2)\n",
        "print(y2)"
      ],
      "metadata": {
        "colab": {
          "base_uri": "https://localhost:8080/"
        },
        "id": "QGESMXAQQmgk",
        "outputId": "637a66d2-bb2e-41d8-8104-ac8314a12537"
      },
      "execution_count": null,
      "outputs": [
        {
          "output_type": "stream",
          "name": "stdout",
          "text": [
            "[[ 0  1]\n",
            " [ 5  1]\n",
            " [15  2]\n",
            " [25  5]\n",
            " [35 11]\n",
            " [45 15]\n",
            " [55 34]\n",
            " [60 35]]\n",
            "[ 4  5 20 14 32 22 38 43]\n"
          ]
        }
      ]
    },
    {
      "cell_type": "code",
      "source": [
        "# for calaculate b0 in this methode should add constant number to x's vector\n",
        "x2 = sm.add_constant(x2)\n",
        "x2"
      ],
      "metadata": {
        "colab": {
          "base_uri": "https://localhost:8080/"
        },
        "id": "ND1qZc9LQuEj",
        "outputId": "a43264d6-c955-4bb2-8773-57f9871a28c5"
      },
      "execution_count": null,
      "outputs": [
        {
          "output_type": "execute_result",
          "data": {
            "text/plain": [
              "array([[ 1.,  0.,  1.],\n",
              "       [ 1.,  5.,  1.],\n",
              "       [ 1., 15.,  2.],\n",
              "       [ 1., 25.,  5.],\n",
              "       [ 1., 35., 11.],\n",
              "       [ 1., 45., 15.],\n",
              "       [ 1., 55., 34.],\n",
              "       [ 1., 60., 35.]])"
            ]
          },
          "metadata": {},
          "execution_count": 64
        }
      ]
    },
    {
      "cell_type": "code",
      "source": [
        "# create linear model with statsmodel\n",
        "model = sm.OLS(y2,x2)"
      ],
      "metadata": {
        "id": "0b6ZQhDpRKtL"
      },
      "execution_count": null,
      "outputs": []
    },
    {
      "cell_type": "code",
      "source": [
        "results = model.fit()"
      ],
      "metadata": {
        "id": "Eh9-4eUeRmfq"
      },
      "execution_count": null,
      "outputs": []
    },
    {
      "cell_type": "code",
      "source": [
        "print(results.summary())"
      ],
      "metadata": {
        "colab": {
          "base_uri": "https://localhost:8080/"
        },
        "id": "tNT8cIJwRp5Z",
        "outputId": "81202560-b909-489e-f809-3d1953a1c78e"
      },
      "execution_count": null,
      "outputs": [
        {
          "output_type": "stream",
          "name": "stdout",
          "text": [
            "                            OLS Regression Results                            \n",
            "==============================================================================\n",
            "Dep. Variable:                      y   R-squared:                       0.862\n",
            "Model:                            OLS   Adj. R-squared:                  0.806\n",
            "Method:                 Least Squares   F-statistic:                     15.56\n",
            "Date:                Thu, 20 Oct 2022   Prob (F-statistic):            0.00713\n",
            "Time:                        16:44:01   Log-Likelihood:                -24.316\n",
            "No. Observations:                   8   AIC:                             54.63\n",
            "Df Residuals:                       5   BIC:                             54.87\n",
            "Df Model:                           2                                         \n",
            "Covariance Type:            nonrobust                                         \n",
            "==============================================================================\n",
            "                 coef    std err          t      P>|t|      [0.025      0.975]\n",
            "------------------------------------------------------------------------------\n",
            "const          5.5226      4.431      1.246      0.268      -5.867      16.912\n",
            "x1             0.4471      0.285      1.567      0.178      -0.286       1.180\n",
            "x2             0.2550      0.453      0.563      0.598      -0.910       1.420\n",
            "==============================================================================\n",
            "Omnibus:                        0.561   Durbin-Watson:                   3.268\n",
            "Prob(Omnibus):                  0.755   Jarque-Bera (JB):                0.534\n",
            "Skew:                           0.380   Prob(JB):                        0.766\n",
            "Kurtosis:                       1.987   Cond. No.                         80.1\n",
            "==============================================================================\n",
            "\n",
            "Notes:\n",
            "[1] Standard Errors assume that the covariance matrix of the errors is correctly specified.\n"
          ]
        },
        {
          "output_type": "stream",
          "name": "stderr",
          "text": [
            "/usr/local/lib/python3.7/dist-packages/scipy/stats/stats.py:1542: UserWarning: kurtosistest only valid for n>=20 ... continuing anyway, n=8\n",
            "  \"anyway, n=%i\" % int(n))\n"
          ]
        }
      ]
    },
    {
      "cell_type": "code",
      "source": [],
      "metadata": {
        "id": "Azm5lP4QR8IR"
      },
      "execution_count": null,
      "outputs": []
    }
  ]
}